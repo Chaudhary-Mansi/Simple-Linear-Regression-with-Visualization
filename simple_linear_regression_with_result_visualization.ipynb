{
 "cells": [
  {
   "cell_type": "markdown",
   "id": "919509de",
   "metadata": {},
   "source": [
    "### Simple Linear Regression"
   ]
  },
  {
   "cell_type": "markdown",
   "id": "d444d02d",
   "metadata": {},
   "source": [
    "#### import required packages"
   ]
  },
  {
   "cell_type": "code",
   "execution_count": 1,
   "id": "6bee4622",
   "metadata": {},
   "outputs": [],
   "source": [
    "import numpy as np\n",
    "import pandas as pd\n",
    "import matplotlib.pyplot as plt\n",
    "import seaborn as sns"
   ]
  },
  {
   "cell_type": "markdown",
   "id": "af4e7af3",
   "metadata": {},
   "source": [
    "#### load the data"
   ]
  },
  {
   "cell_type": "code",
   "execution_count": 2,
   "id": "bfabfcec",
   "metadata": {},
   "outputs": [],
   "source": [
    "df = pd.read_csv('./Salary_Data.csv')"
   ]
  },
  {
   "cell_type": "markdown",
   "id": "08053865",
   "metadata": {},
   "source": [
    "#### analyze the data"
   ]
  },
  {
   "cell_type": "code",
   "execution_count": 3,
   "id": "026f986d",
   "metadata": {},
   "outputs": [
    {
     "name": "stdout",
     "output_type": "stream",
     "text": [
      "<class 'pandas.core.frame.DataFrame'>\n",
      "RangeIndex: 33 entries, 0 to 32\n",
      "Data columns (total 2 columns):\n",
      " #   Column           Non-Null Count  Dtype  \n",
      "---  ------           --------------  -----  \n",
      " 0   YearsExperience  33 non-null     float64\n",
      " 1   Salary           33 non-null     int64  \n",
      "dtypes: float64(1), int64(1)\n",
      "memory usage: 656.0 bytes\n"
     ]
    }
   ],
   "source": [
    "df.info()"
   ]
  },
  {
   "cell_type": "code",
   "execution_count": 4,
   "id": "7e82da28",
   "metadata": {},
   "outputs": [
    {
     "data": {
      "text/html": [
       "<div>\n",
       "<style scoped>\n",
       "    .dataframe tbody tr th:only-of-type {\n",
       "        vertical-align: middle;\n",
       "    }\n",
       "\n",
       "    .dataframe tbody tr th {\n",
       "        vertical-align: top;\n",
       "    }\n",
       "\n",
       "    .dataframe thead th {\n",
       "        text-align: right;\n",
       "    }\n",
       "</style>\n",
       "<table border=\"1\" class=\"dataframe\">\n",
       "  <thead>\n",
       "    <tr style=\"text-align: right;\">\n",
       "      <th></th>\n",
       "      <th>YearsExperience</th>\n",
       "      <th>Salary</th>\n",
       "    </tr>\n",
       "  </thead>\n",
       "  <tbody>\n",
       "    <tr>\n",
       "      <th>count</th>\n",
       "      <td>33.000000</td>\n",
       "      <td>33.000000</td>\n",
       "    </tr>\n",
       "    <tr>\n",
       "      <th>mean</th>\n",
       "      <td>5.921212</td>\n",
       "      <td>82760.303030</td>\n",
       "    </tr>\n",
       "    <tr>\n",
       "      <th>std</th>\n",
       "      <td>3.342413</td>\n",
       "      <td>34014.620992</td>\n",
       "    </tr>\n",
       "    <tr>\n",
       "      <th>min</th>\n",
       "      <td>1.100000</td>\n",
       "      <td>37731.000000</td>\n",
       "    </tr>\n",
       "    <tr>\n",
       "      <th>25%</th>\n",
       "      <td>3.200000</td>\n",
       "      <td>56957.000000</td>\n",
       "    </tr>\n",
       "    <tr>\n",
       "      <th>50%</th>\n",
       "      <td>5.100000</td>\n",
       "      <td>67938.000000</td>\n",
       "    </tr>\n",
       "    <tr>\n",
       "      <th>75%</th>\n",
       "      <td>8.700000</td>\n",
       "      <td>109431.000000</td>\n",
       "    </tr>\n",
       "    <tr>\n",
       "      <th>max</th>\n",
       "      <td>13.000000</td>\n",
       "      <td>156000.000000</td>\n",
       "    </tr>\n",
       "  </tbody>\n",
       "</table>\n",
       "</div>"
      ],
      "text/plain": [
       "       YearsExperience         Salary\n",
       "count        33.000000      33.000000\n",
       "mean          5.921212   82760.303030\n",
       "std           3.342413   34014.620992\n",
       "min           1.100000   37731.000000\n",
       "25%           3.200000   56957.000000\n",
       "50%           5.100000   67938.000000\n",
       "75%           8.700000  109431.000000\n",
       "max          13.000000  156000.000000"
      ]
     },
     "execution_count": 4,
     "metadata": {},
     "output_type": "execute_result"
    }
   ],
   "source": [
    "df.describe()"
   ]
  },
  {
   "cell_type": "code",
   "execution_count": 5,
   "id": "368f3e24",
   "metadata": {},
   "outputs": [
    {
     "data": {
      "text/plain": [
       "Index(['YearsExperience', 'Salary'], dtype='object')"
      ]
     },
     "execution_count": 5,
     "metadata": {},
     "output_type": "execute_result"
    }
   ],
   "source": [
    "df.columns"
   ]
  },
  {
   "cell_type": "markdown",
   "id": "1c8bcb1f",
   "metadata": {},
   "source": [
    "#### visualize the data"
   ]
  },
  {
   "cell_type": "code",
   "execution_count": 12,
   "id": "931f0ddc",
   "metadata": {},
   "outputs": [
    {
     "data": {
      "image/png": "[encoded data removed]",
      "text/plain": [
       "<Figure size 432x288 with 1 Axes>"
      ]
     },
     "metadata": {
      "needs_background": "light"
     },
     "output_type": "display_data"
    }
   ],
   "source": [
    "plt.scatter(df['YearsExperience'], df[\"Salary\"])\n",
    "plt.xlabel(\"Experience\")\n",
    "plt.ylabel(\"Salary\")\n",
    "plt.title(\"Experience vs Salary_Data.csv\")\n",
    "plt.tight_layout()"
   ]
  },
  {
   "cell_type": "markdown",
   "id": "401c3985",
   "metadata": {},
   "source": [
    "#### find the variable dependencies"
   ]
  },
  {
   "cell_type": "code",
   "execution_count": 13,
   "id": "83176e77",
   "metadata": {},
   "outputs": [
    {
     "name": "stdout",
     "output_type": "stream",
     "text": [
      "[[1.         0.98364228]\n",
      " [0.98364228 1.        ]]\n"
     ]
    }
   ],
   "source": [
    "# find the correlation between Salary and YearsExperience\n",
    "correlation = np.corrcoef(df[\"YearsExperience\"], df[\"Salary\"])\n",
    "print(correlation)"
   ]
  },
  {
   "cell_type": "code",
   "execution_count": 14,
   "id": "698b3ffe",
   "metadata": {},
   "outputs": [
    {
     "data": {
      "text/html": [
       "<div>\n",
       "<style scoped>\n",
       "    .dataframe tbody tr th:only-of-type {\n",
       "        vertical-align: middle;\n",
       "    }\n",
       "\n",
       "    .dataframe tbody tr th {\n",
       "        vertical-align: top;\n",
       "    }\n",
       "\n",
       "    .dataframe thead th {\n",
       "        text-align: right;\n",
       "    }\n",
       "</style>\n",
       "<table border=\"1\" class=\"dataframe\">\n",
       "  <thead>\n",
       "    <tr style=\"text-align: right;\">\n",
       "      <th></th>\n",
       "      <th>YearsExperience</th>\n",
       "      <th>Salary</th>\n",
       "    </tr>\n",
       "  </thead>\n",
       "  <tbody>\n",
       "    <tr>\n",
       "      <th>YearsExperience</th>\n",
       "      <td>1.000000</td>\n",
       "      <td>0.983642</td>\n",
       "    </tr>\n",
       "    <tr>\n",
       "      <th>Salary</th>\n",
       "      <td>0.983642</td>\n",
       "      <td>1.000000</td>\n",
       "    </tr>\n",
       "  </tbody>\n",
       "</table>\n",
       "</div>"
      ],
      "text/plain": [
       "                 YearsExperience    Salary\n",
       "YearsExperience         1.000000  0.983642\n",
       "Salary                  0.983642  1.000000"
      ]
     },
     "execution_count": 14,
     "metadata": {},
     "output_type": "execute_result"
    }
   ],
   "source": [
    "# find the correlation amongst all the variables in the df\n",
    "df.corr()"
   ]
  },
  {
   "cell_type": "markdown",
   "id": "0323f1c7",
   "metadata": {},
   "source": [
    "#### prepare the data for ML model"
   ]
  },
  {
   "cell_type": "code",
   "execution_count": 10,
   "id": "b6a4f91d",
   "metadata": {},
   "outputs": [
    {
     "name": "stdout",
     "output_type": "stream",
     "text": [
      "x: ndim = 2, shape = (33, 1)\n",
      "y: ndim = 1, shape = (33,)\n"
     ]
    }
   ],
   "source": [
    "# remove the dependent variable from the df\n",
    "# so that df will have only the independent variable(s)\n",
    "# x must be multi dimensional array / data frame\n",
    "x = df.drop(\"Salary\", axis=1)\n",
    "print(f\"x: ndim = {x.ndim}, shape = {x.shape}\")\n",
    "\n",
    "# get the dependent variable (y)\n",
    "# y must be one dimensional array / Series\n",
    "y = df['Salary']b\n",
    "print(f\"y: ndim = {y.ndim}, shape = {y.shape}\")"
   ]
  },
  {
   "cell_type": "markdown",
   "id": "83d3a60f",
   "metadata": {},
   "source": [
    "#### create and train the model"
   ]
  },
  {
   "cell_type": "code",
   "execution_count": 32,
   "id": "08362391",
   "metadata": {},
   "outputs": [
    {
     "name": "stdout",
     "output_type": "stream",
     "text": [
      "{'copy_X': True, 'fit_intercept': True, 'n_jobs': None, 'normalize': False, 'positive': False}\n"
     ]
    },
    {
     "data": {
      "text/plain": [
       "LinearRegression()"
      ]
     },
     "execution_count": 32,
     "metadata": {},
     "output_type": "execute_result"
    }
   ],
   "source": [
    "from sklearn.linear_model import LinearRegression\n",
    "\n",
    "# create the model\n",
    "model = LinearRegression()\n",
    "\n",
    "# get the list of hyper parameters\n",
    "# hyper parameters are used to fine tune the model\n",
    "params = model.get_params()\n",
    "print(params)\n",
    "\n",
    "# train the model\n",
    "# understand the relationship and create the formula for predicting the future values\n",
    "model.fit(x, y)"
   ]
  },
  {
   "cell_type": "code",
   "execution_count": 48,
   "id": "47c1f5fa",
   "metadata": {},
   "outputs": [
    {
     "name": "stdout",
     "output_type": "stream",
     "text": [
      "[10010.1995026]\n",
      "23487.78839975789\n"
     ]
    }
   ],
   "source": [
    "# get the formula used by the model to predict the values\n",
    "print(model.coef_)\n",
    "print(model.intercept_)"
   ]
  },
  {
   "cell_type": "code",
   "execution_count": 52,
   "id": "24f8aba3",
   "metadata": {},
   "outputs": [
    {
     "name": "stdout",
     "output_type": "stream",
     "text": [
      "as per the observed values the salary for 1.1 yrs exp employee = 39343\n",
      "as per the model the salary for 1.1 yrs exp employee = 34499.00785261761\n"
     ]
    }
   ],
   "source": [
    "# find the known and known salary for an employee of 1.1 yrs experience\n",
    "print(f\"as per the observed values the salary for 1.1 yrs exp employee = {y[0]}\")\n",
    "print(f\"as per the model the salary for 1.1 yrs exp employee = {model.predict([[1.1]])[0]}\")"
   ]
  },
  {
   "cell_type": "code",
   "execution_count": 53,
   "id": "b85c881e",
   "metadata": {},
   "outputs": [
    {
     "name": "stdout",
     "output_type": "stream",
     "text": [
      "predicted salary = 34499.00785261789\n"
     ]
    }
   ],
   "source": [
    "# formula used by the model to predict the value\n",
    "# y = mx + c\n",
    "# where\n",
    "# - x = experience = 1.1\n",
    "# - m = slope (coefficient for exprience) = 10010.1995026\n",
    "# - c = constant = 23487.78839975789\n",
    "y_predicted = (10010.1995026 * 1.1) + 23487.78839975789\n",
    "print(f\"predicted salary = {y_predicted}\")"
   ]
  },
  {
   "cell_type": "markdown",
   "id": "9529f17a",
   "metadata": {},
   "source": [
    "#### visualize the result (render the best fit regression line)"
   ]
  },
  {
   "cell_type": "code",
   "execution_count": 67,
   "id": "488b9b2a",
   "metadata": {},
   "outputs": [
    {
     "data": {
      "image/png": "[encoded data removed]",
      "text/plain": [
       "<Figure size 432x288 with 1 Axes>"
      ]
     },
     "metadata": {
      "needs_background": "light"
     },
     "output_type": "display_data"
    }
   ],
   "source": [
    "# predict the salaries for the known data (known experiences from x)\n",
    "predictions = model.predict(x)\n",
    "\n",
    "# find out the mean for the x\n",
    "mean = df['Salary'].mean()\n",
    "mean_values = np.ones(len(x)) * mean\n",
    "\n",
    "# plot the known records\n",
    "plt.scatter(df['YearsExperience'], df[\"Salary\"], label=\"observed values\")\n",
    "\n",
    "# plot the salaries predicted by the model\n",
    "# plt.scatter(df['YearsExperience'], predictions, color=\"red\")\n",
    "plt.plot(df['YearsExperience'], predictions, color=\"red\", label=\"regression line\")\n",
    "\n",
    "# mean line\n",
    "plt.plot(df['YearsExperience'], mean_values, color=\"green\", label=\"mean line\")\n",
    "\n",
    "plt.xlabel(\"Experience\")\n",
    "plt.ylabel(\"Salary\")\n",
    "plt.title(\"Experience vs Salary_Data.csv\")\n",
    "plt.legend()\n",
    "plt.tight_layout()"
   ]
  },
  {
   "cell_type": "markdown",
   "id": "385450c0",
   "metadata": {},
   "source": [
    "#### use the model and predict salary for an employee having 14 years of experience"
   ]
  },
  {
   "cell_type": "code",
   "execution_count": 54,
   "id": "7cf6bad6",
   "metadata": {},
   "outputs": [
    {
     "name": "stdout",
     "output_type": "stream",
     "text": [
      "salary for an employee with 14 years of experience will be (using model)   : $163630.58\n",
      "salary for an employee with 14 years of experience will be (using formula) : $163630.58\n"
     ]
    }
   ],
   "source": [
    "# the predict method returns a multidimensional array\n",
    "salaries = model.predict([\n",
    "    [14]\n",
    "])\n",
    "\n",
    "# formula the model is using behind the scene to calculate the future values\n",
    "y_predicted = (10010.1995026 * 14) + 23487.78839975789\n",
    "\n",
    "print(f\"salary for an employee with 14 years of experience will be (using model)   : ${salaries[0]:.2f}\")\n",
    "print(f\"salary for an employee with 14 years of experience will be (using formula) : ${y_predicted:.2f}\")"
   ]
  },
  {
   "cell_type": "code",
   "execution_count": null,
   "id": "438d85cc",
   "metadata": {},
   "outputs": [],
   "source": []
  },
  {
   "cell_type": "code",
   "execution_count": null,
   "id": "14758186",
   "metadata": {},
   "outputs": [],
   "source": []
  },
  {
   "cell_type": "code",
   "execution_count": null,
   "id": "90bb63cf",
   "metadata": {},
   "outputs": [],
   "source": []
  },
  {
   "cell_type": "code",
   "execution_count": null,
   "id": "d358d873",
   "metadata": {},
   "outputs": [],
   "source": []
  },
  {
   "cell_type": "code",
   "execution_count": null,
   "id": "f9f4f7f1",
   "metadata": {},
   "outputs": [],
   "source": []
  },
  {
   "cell_type": "code",
   "execution_count": null,
   "id": "1c33384d",
   "metadata": {},
   "outputs": [],
   "source": []
  }
 ],
 "metadata": {
  "kernelspec": {
   "display_name": "Python 3 (ipykernel)",
   "language": "python",
   "name": "python3"
  },
  "language_info": {
   "codemirror_mode": {
    "name": "ipython",
    "version": 3
   },
   "file_extension": ".py",
   "mimetype": "text/x-python",
   "name": "python",
   "nbconvert_exporter": "python",
   "pygments_lexer": "ipython3",
   "version": "3.11.7"
  }
 },
 "nbformat": 4,
 "nbformat_minor": 5
}
